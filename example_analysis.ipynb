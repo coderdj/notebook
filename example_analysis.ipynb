{
 "metadata": {
  "name": "",
  "signature": "sha256:e4143a96cd79aaec3e5facc0ca2c826e79e663d1bed0b463fa4dd8999f9c9cf8"
 },
 "nbformat": 3,
 "nbformat_minor": 0,
 "worksheets": [
  {
   "cells": [
    {
     "cell_type": "heading",
     "level": 1,
     "metadata": {},
     "source": [
      "Example analysis using iPython and MongoDB"
     ]
    },
    {
     "cell_type": "markdown",
     "metadata": {},
     "source": [
      "Daniel Coderre, 15.12.2014. Updated 24.02.2014"
     ]
    },
    {
     "cell_type": "heading",
     "level": 1,
     "metadata": {},
     "source": [
      "1. Introduction"
     ]
    },
    {
     "cell_type": "markdown",
     "metadata": {},
     "source": [
      "Right now we are developing the data flow for XENON1T. Many things are already pretty much finalized. Many things are not. One thing that is not is the format for our processed data. The new data processor is a beautiful and flexible piece of software (thanks Nikhef), which currently supports several output formats (ROOT, database, HDF5, and more). Input is needed at some point from the analysis group for what sort of data you want to analyze. \n",
      "\n",
      "If we don't start thinking about this soon there will be something like a slow drift towards a system trying to mirror the XENON100 one, but with several differences imposed by our processing and storage schemas, available resources, etc. While I believe that the overall strategy for the analysis should follow the (very successful) formula developed in XENON100, we currently have the opportunity to grab this thing by the horns and create something that will take advantage of 21st century technology to make our analysts lives easier over the next several years. \n",
      "\n",
      "This note presents two 'new' ideas, where 'new' means 'new in XENON'. \n",
      " * Storing our processed data in a database instead of as ROOT files. \n",
      " * Presenting notes as analysis notebooks instead of static wiki pages.\n",
      "\n",
      "Database storage does not mean you can't use ROOT files for analysis. You could easily have a script pull data from a database and put it into a ROOT file for the analyzer to work with. As we will see below it is also possible to use ROOT classes in an analysis even if you don't store the data in ROOT files.\n",
      "\n",
      "The analysis notebook is just something I'm trying out, we don't have to discuss it. You get the actual source code of the analysis directly along with the graphs it produces. We can see how that works with this note. I have nothing against wiki notes but why not try new tools."
     ]
    },
    {
     "cell_type": "heading",
     "level": 3,
     "metadata": {},
     "source": [
      "1.1 Why database?"
     ]
    },
    {
     "cell_type": "markdown",
     "metadata": {},
     "source": [
      "This note demonstrates just one way to do a database-based analysis. This has a few advantages, namely:\n",
      "* You don't have to deal with file I/O at all. You don't care where/how things are stored. Right now a huge amount of time spent on an analysis is spent doing things that an analysis software should do for you, like opening and unpacking data. But we don't have an analysis software so every analyzer must develop these tools for him/herself.\n",
      "* Cuts are pre-processed. No copying and pasting from the wiki ever, you just ask if an event passed a certain cut or not by name. This also speeds up the analysis.\n",
      "* You can choose what language to write your analysis in as well as what software you want to use for plotting, etc. All major database software supports C, C++, python, java, and more. You might be out of luck with fortran.\n",
      "* You can select data based on pretty much any criteria you can think of. Want all data between two dates? Easy. All data with a certain source? Fine. Data in some range of runs? No problem. Data taken by a specific shifter on Wednesday mornings where each event contains exactly three S2 candidates and the event number is a prime? Why not.\n",
      "* You can mix different types of data dynamically. We have TPC and muon veto data in XENON1T. Mixing the two in one file will not be trivial. Selecting data from a database maintains full flexibility in how the muon veto data is used."
     ]
    },
    {
     "cell_type": "heading",
     "level": 1,
     "metadata": {},
     "source": [
      "2. Analysis"
     ]
    },
    {
     "cell_type": "heading",
     "level": 3,
     "metadata": {},
     "source": [
      "2.1 Preparing the data"
     ]
    },
    {
     "cell_type": "markdown",
     "metadata": {},
     "source": [
      "To do a database-based analysis you of course need the data. For this example some run12 AmBe data was converted from XENON100 ROOT file to mongodb documents. Right now the conversion is a dictionary containing many, but not all, of the fields from the ROOT file. [Side note: this format is a bit messy. There are fields given on the wiki that are not in the file. There are fields in the file not on the wiki. There are redundant fields (sometimes vectors) like crazy]. Each entry is it's own dictionary document. We could think of doing something smarter later but this was done for testing.\n",
      "\n",
      "Why did I use MongoDB? Because I already know how to use MongoDB and have it configured on out PCs here. If the idea of a database analysis in general is interesting then we could explore different database software and choose the one that is most fitting. I am not suggesting that MongoDB is the best option; it is the only one I tried.\n",
      "\n",
      "MongoDB is document-based, not table-based. So each event is stored in its own document. Documents are BSON (Binary JSON) objects and are represented in the Python API as dictionaries. For those unfamiliar with dictionaries they are used similar to how you might use a struct in C++, but the dictionary is completely dynamic. In C++ there is a BSON class for accessing database entries. \n",
      "\n",
      "Here is an example document. I have truncated some of the data (hit lists, number of S1/S2s) to keep the length manageable. I did not include every field in the ROOT file for this test."
     ]
    },
    {
     "cell_type": "code",
     "collapsed": false,
     "input": [
      "{\n",
      "   \"_id\": ObjectId(\"54ec5f9d75aece00551cc5b6\"),\n",
      "   \"id\": NumberInt(40728),\n",
      "   \"time_s\": NumberInt(1368697819),\n",
      "   \"time_mus\": NumberInt(397931),\n",
      "   \"prevtime_s\": NumberInt(1368697819),\n",
      "   \"prevtime_mus\": NumberInt(355014),\n",
      "   \"a_tot\": 3550.3547363281,\n",
      "   \"a_tot_veto\": 2.0122644901276,\n",
      "   \"S1s\": {\n",
      "     \"0\": {\n",
      "       \"position\": NumberInt(20506),\n",
      "       \"area_tot\": 41.643539428711,\n",
      "       \"area_top\": 10.195755004883,\n",
      "       \"area_bottom\": 31.447782516479,\n",
      "       \"area_veto\": 0,\n",
      "       \"area_tot_corr\": 36.006477355957,\n",
      "       \"area_tot_3dcorr\": 34.691486358643,\n",
      "       \"left_bound\": NumberInt(20498),\n",
      "       \"right_bound\": NumberInt(20517),\n",
      "       \"width\": 3.326171875,\n",
      "       \"width_low\": 0.17707997560501,\n",
      "       \"height\": 6.515625,\n",
      "       \"patternlhood\": -17.832286834717,\n",
      "       \"hits\": {\n",
      "         \"36\": {\n",
      "           \"q\": 0.43849098682404,\n",
      "           \"e\": 2.1733679771423 \n",
      "        },\n",
      "         \"51\": {\n",
      "           \"q\": 3.0707190036774,\n",
      "           \"e\": 0.77503395080566 \n",
      "        } \n",
      "        ...\n",
      "      } \n",
      "    },\n",
      "     \"1\": {\n",
      "       \"position\": NumberInt(11142),\n",
      "       \"area_tot\": 1.959015250206,\n",
      "       \"area_top\": 0.20592030882835,\n",
      "       \"area_bottom\": 1.7530949115753,\n",
      "       \"area_veto\": 0,\n",
      "       \"area_tot_corr\": 1.6938339471817,\n",
      "       \"area_tot_3dcorr\": 1.6319733858109,\n",
      "       \"left_bound\": NumberInt(11128),\n",
      "       \"right_bound\": NumberInt(11153),\n",
      "       \"width\": 1.2392578125,\n",
      "       \"width_low\": 0.019467875361443,\n",
      "       \"height\": 3.6474609375,\n",
      "       \"patternlhood\": -25.510328292847,\n",
      "       \"hits\": {\n",
      "         \"69\": {\n",
      "           \"q\": 0.021568099036813,\n",
      "           \"e\": 3.0875020027161 \n",
      "        },\n",
      "         \"70\": {\n",
      "           \"q\": 0.18435220420361,\n",
      "           \"e\": 3.0020797252655 \n",
      "        },\n",
      "         \"109\": {\n",
      "           \"q\": 1.7530949115753,\n",
      "           \"e\": 0.56323719024658 \n",
      "        } \n",
      "        ...\n",
      "      } \n",
      "    }\n",
      "  },\n",
      "   \"S2s\": {\n",
      "     \"0\": {\n",
      "       \"position\": NumberInt(33972),\n",
      "       \"area_tot\": 2634.2680664062,\n",
      "       \"area_top\": 1466.2777099609,\n",
      "       \"area_bottom\": 1167.9903564453,\n",
      "       \"area_top_corr\": 1829.2685546875,\n",
      "       \"area_bottom_corr\": 1462.9860839844,\n",
      "       \"area_tot_corr\": 3292.2546386719,\n",
      "       \"left_bound\": NumberInt(33838),\n",
      "       \"right_bound\": NumberInt(34195),\n",
      "       \"width\": 103.61328125,\n",
      "       \"width_low\": 207.51953125,\n",
      "       \"width_low_corr\": 206.23759460449,\n",
      "       \"width_low_corr_flat\": 19.364807128906,\n",
      "       \"pos_svm\": {\n",
      "         \"x\": -108.12121582031,\n",
      "         \"y\": -47.152278900146 \n",
      "      },\n",
      "       \"pos_nn\": {\n",
      "         \"x\": -108.40765380859,\n",
      "         \"y\": -48.032230377197 \n",
      "      },\n",
      "       \"pos_chi2\": {\n",
      "         \"x\": -105.74694061279,\n",
      "         \"y\": -50.323051452637 \n",
      "      },\n",
      "       \"hits\": {\n",
      "         \"0\": 10.751468658447,\n",
      "         \"1\": 2.5410153865814,\n",
      "         \"21\": 3.3907866477966,\n",
      "         \"22\": 1.8414486646652,\n",
      "         \"25\": 1.9073771238327,\n",
      "         \"26\": 3.1422002315521,\n",
      "         \"27\": 28.456966400146,\n",
      "         \"28\": 28.196628570557,\n",
      "         \"29\": 11.636167526245,\n",
      "            ...\n",
      "      } \n",
      "    }\n",
      "  },\n",
      "   \"cuts\": {\n",
      "     \"xentropy1\": true,\n",
      "     \"xhighlog1\": true,\n",
      "     \"xs1coin2\": true,\n",
      "     \"xs1width0\": false,\n",
      "     \"xs2peaks2\": true,\n",
      "     \"xs2single3\": false \n",
      "  } \n",
      "}\n"
     ],
     "language": "python",
     "metadata": {},
     "outputs": []
    },
    {
     "cell_type": "markdown",
     "metadata": {},
     "source": [
      "Here we already have some cut fields on the bottom. I'll get to those in the next section.\n",
      "\n",
      "Accessing a dictionary is straightforward and is done using square brackets like so:"
     ]
    },
    {
     "cell_type": "code",
     "collapsed": false,
     "input": [
      "energy = event['S2s'][0]['area_tot_corr']"
     ],
     "language": "python",
     "metadata": {},
     "outputs": []
    },
    {
     "cell_type": "markdown",
     "metadata": {},
     "source": [
      "You can also clean up the code a bit by setting intermediate variables:"
     ]
    },
    {
     "cell_type": "code",
     "collapsed": false,
     "input": [
      "hitlist = event['S2s'][3]['hits']\n",
      "energy_in_pmt_100 = hitlist['100']"
     ],
     "language": "python",
     "metadata": {},
     "outputs": []
    },
    {
     "cell_type": "markdown",
     "metadata": {},
     "source": [
      "The syntax in C++ is a bit different. You can check the docs (for example: http://api.mongodb.org/cplusplus/current/classmongo_1_1_b_s_o_n_obj.html) to see how these objects are used."
     ]
    },
    {
     "cell_type": "heading",
     "level": 3,
     "metadata": {},
     "source": [
      "2.2 Preparing the cuts"
     ]
    },
    {
     "cell_type": "markdown",
     "metadata": {},
     "source": [
      "Our program will work like this:\n",
      "\n",
      "We define cuts as individual functions (I used python, you could also use ROOT). These functions are uploaded to a database. This database is the 'cuts database'. Each cut contains a name, description, date, uploader, and the actual cut syntax. We could also add additional fields indicating, for example, which data-taking periods this version of the cut has been approved for. The cuts database would be interfaced with a wiki page so that cuts can be browsed and displayed however (important) nobody will ever have to copy and paste a cut from the wiki. There is literally no situation where copying and pasting source code from one place to the other is the best solution.\n",
      "\n",
      "Rather than each person making their own cut script, we have a background script that automatically loops through the database. It evaluates each cut for each event which has not been evaluated yet. The script senses when a new cut is added to the database or when new data is added and processes. Right now I've implemented this on a small, simple scale but one would have to think of a more large-scale solution.\n",
      "\n",
      "Then when we want to analyze data there is simple a field in each event indicating is a cut has been passed or failed. This allows us to make fast database queries on the cut fields. \n",
      "\n",
      "Here is a port of a simple cut. For this test I ported several of the easier cuts to python. Having the cuts in an actual script (regardless if it's python or C) instead of condensed to one line makes them significantly more readable and allows the inclusion of comments."
     ]
    },
    {
     "cell_type": "code",
     "collapsed": false,
     "input": [
      "'''                                                                                  \n",
      "port of xs2single3 to python                                                         \n",
      "'''\n",
      "\n",
      "def fun(data):\n",
      "    \n",
      "    # If there is no second S2 we will return True by setting this to zero\n",
      "    peak1 = 0.\n",
      "\n",
      "    # If there is a second S2 set peak1 with its area\n",
      "    if len( data['S2s'] ) > 1:\n",
      "        peak1 = data['S2s'][1]['area_tot']\n",
      "        \n",
      "    # The actual cut condition\n",
      "    if peak1 < 70 + ( data['S2s'][0]['area_tot'] -300 ) / 100.:\n",
      "        return True\n",
      "\n",
      "    return False\n"
     ],
     "language": "python",
     "metadata": {},
     "outputs": [],
     "prompt_number": 1
    },
    {
     "cell_type": "markdown",
     "metadata": {},
     "source": [
      "All cuts are of the same format ( fun(data) 0) and all cuts return a boolean."
     ]
    },
    {
     "cell_type": "markdown",
     "metadata": {},
     "source": [
      "The cut file is added to the cuts database with the following line:\n",
      "\n",
      "    python CutEvaluator/InsertCut.py --user=\"dan\" -cutname=\"xs2single3\" --infile=\"CutEvaluator/cuts/xs2single3.py\"\n",
      "\n"
     ]
    },
    {
     "cell_type": "markdown",
     "metadata": {},
     "source": [
      "And that's it. We run our evaluator until it has processed all the data, then we can start an analysis."
     ]
    },
    {
     "cell_type": "heading",
     "level": 3,
     "metadata": {},
     "source": [
      "2.3 Starting an analysis"
     ]
    },
    {
     "cell_type": "markdown",
     "metadata": {},
     "source": [
      "Here is a line by line walkthrough of a simple analysis. First connect to mongodb. Here we connect to a predefined database called run12_ambe.xe100_130516_1119 on our machine xedaq00."
     ]
    },
    {
     "cell_type": "code",
     "collapsed": false,
     "input": [
      "from pymongo import MongoClient\n",
      "\n",
      "# Do the connection\n",
      "try: \n",
      "    connection = MongoClient(\"xedaq00\")\n",
      "except RuntimeError:\n",
      "    print(\"Error connecting to DB machine\")\n",
      "    exit(2)\n",
      "    \n",
      "# Define our database and collection\n",
      "database = connection[\"run12_ambe\"]\n",
      "collection = database[\"xe100_130516_1119\"]"
     ],
     "language": "python",
     "metadata": {},
     "outputs": [],
     "prompt_number": 3
    },
    {
     "cell_type": "markdown",
     "metadata": {},
     "source": [
      "We will now do all our operations on the collection. We could think later of how to organize collections for large datasets if we decided to go this way. Right now I have a database called \"run12_ambe\" and I put a collection in the DB called xe100_130516_1119.\n",
      "\n",
      "Let's say I want to query some data. This is done by building a query object, which in mongodb is a python dictionary. I'll define that dictionary to search for events that passed some cuts."
     ]
    },
    {
     "cell_type": "code",
     "collapsed": false,
     "input": [
      "filter_dict = {\n",
      "                \"cuts.xsignalnoise5\"            : True,\n",
      "                \"cuts.xs1width0\"                : True,\n",
      "                \"cuts.xs2peaks2\"                : True,\n",
      "                \"cuts.xs1coin2\"                 : True,\n",
      "                \"cuts.xentropy1\"                : True,\n",
      "                \"cuts.xhighlog1\"                : True,\n",
      "                \"cuts.xs2single3\"               : True,\n",
      "                \"cuts.xveto2\"                   : True\n",
      "}"
     ],
     "language": "python",
     "metadata": {},
     "outputs": [],
     "prompt_number": 22
    },
    {
     "cell_type": "markdown",
     "metadata": {},
     "source": [
      "Then we can use a simple database query to get a list of events passing the cuts. I'll print the number of events passed as well."
     ]
    },
    {
     "cell_type": "code",
     "collapsed": false,
     "input": [
      "passed_events = collection.find( filter_dict )\n",
      "print( str( collection.count()) + \" events in the collection\" )\n",
      "print( str( passed_events.count()) + \" passed by our selection\" )\n",
      "print( str( passed_events.count() / collection.count() ) + \" fraction passed\" )"
     ],
     "language": "python",
     "metadata": {},
     "outputs": [
      {
       "output_type": "stream",
       "stream": "stdout",
       "text": [
        "40729 events in the collection\n",
        "210 passed by our selection"
       ]
      },
      {
       "output_type": "stream",
       "stream": "stdout",
       "text": [
        "\n",
        "0.0051560313290284565 fraction passed"
       ]
      },
      {
       "output_type": "stream",
       "stream": "stdout",
       "text": [
        "\n"
       ]
      }
     ],
     "prompt_number": 23
    },
    {
     "cell_type": "markdown",
     "metadata": {},
     "source": [
      "So now we have some events that pass the cuts. How about doing something with them. We could plot the s1 versus s2 for these events if we want. In this example we'll use matplotlib to make the graph."
     ]
    },
    {
     "cell_type": "code",
     "collapsed": false,
     "input": [
      "%matplotlib inline\n",
      "import matplotlib\n",
      "import matplotlib.pyplot as plt\n",
      "\n",
      "#loop through events\n",
      "plt.figure(0)\n",
      "for event in passed_events:\n",
      "    \n",
      "    # Make sure there is s1 and s2 and make a plot\n",
      "    if len( event['S2s'] ) != 0 and len( event['S1s'] ) != 0:\n",
      "        plt.scatter(event['S2s'][0]['area_tot'], event['S1s'][0]['area_tot'])\n",
      "\n",
      "# Put axis labels and draw the plot\n",
      "plt.xlabel('S2sTot[0]', fontsize=18)\n",
      "plt.ylabel('S1sTot[0]', fontsize=16)\n",
      "plt.show()"
     ],
     "language": "python",
     "metadata": {},
     "outputs": [
      {
       "metadata": {},
       "output_type": "display_data",
       "png": "[encoded data removed]",
       "text": [
        "<matplotlib.figure.Figure at 0x7f7fefb105f8>"
       ]
      }
     ],
     "prompt_number": 24
    },
    {
     "cell_type": "markdown",
     "metadata": {},
     "source": [
      "Let's try plotting something a bit more useful. We can do the s2/s1 versus s1 ratio for events passing all our cuts."
     ]
    },
    {
     "cell_type": "code",
     "collapsed": false,
     "input": [
      "import math\n",
      "plt.figure(1)\n",
      "passed_events = collection.find( filter_dict )\n",
      "for event in passed_events:\n",
      "    \n",
      "    # Make sure there is s1 and s2 and make a plot\n",
      "    if len( event['S2s'] ) != 0 and len( event['S1s'] ) != 0:\n",
      "        plt.scatter( event['S1s'][0]['area_tot_corr'], \n",
      "                     math.log10( event['S2s'][0]['area_bottom_corr'] / event['S1s'][0]['area_tot_corr'] ) )\n",
      "    \n",
      "# Again make our labels and draw\n",
      "plt.xlabel('cxS1sTot[0]', fontsize=18)\n",
      "plt.ylabel('log10(cS2sTotBottom[0]/cxS1sTot[0])', fontsize=16)\n",
      "plt.show()"
     ],
     "language": "python",
     "metadata": {},
     "outputs": [
      {
       "metadata": {},
       "output_type": "display_data",
       "png": "[encoded data removed]",
       "text": [
        "<matplotlib.figure.Figure at 0x7f7feefb0710>"
       ]
      }
     ],
     "prompt_number": 25
    },
    {
     "cell_type": "markdown",
     "metadata": {},
     "source": [
      "But let's say we want to, for example, get rid of the threshold on s2 and see how that looks. We define a new filter where we explicitly select events failing that cut as follows:"
     ]
    },
    {
     "cell_type": "code",
     "collapsed": false,
     "input": [
      "filter_dict_nos2thresh = {\n",
      "                \"cuts.xsignalnoise5\"            : True,\n",
      "                \"cuts.xs1width0\"                : True,\n",
      "                \"cuts.xs2peaks2\"                : False,\n",
      "                \"cuts.xs1coin2\"                 : True,\n",
      "                \"cuts.xentropy1\"                : True,\n",
      "                \"cuts.xhighlog1\"                : True,\n",
      "                \"cuts.xs2single3\"               : True,\n",
      "                \"cuts.xveto2\"                   : True\n",
      "}\n",
      "passed_events_nos2thresh = collection.find( filter_dict_nos2thresh )\n",
      "print( str( collection.count()) + \" events in the collection\" )\n",
      "print( str( passed_events_nos2thresh.count()) + \" passed by our selection\" )\n",
      "print( str( passed_events_nos2thresh.count() / collection.count() ) + \" fraction passed\" )"
     ],
     "language": "python",
     "metadata": {},
     "outputs": [
      {
       "output_type": "stream",
       "stream": "stdout",
       "text": [
        "40729 events in the collection\n",
        "161 passed by our selection"
       ]
      },
      {
       "output_type": "stream",
       "stream": "stdout",
       "text": [
        "\n",
        "0.0039529573522551495 fraction passed"
       ]
      },
      {
       "output_type": "stream",
       "stream": "stdout",
       "text": [
        "\n"
       ]
      }
     ],
     "prompt_number": 5
    },
    {
     "cell_type": "markdown",
     "metadata": {},
     "source": [
      "We could have also selected events without considering the cut at all simply by leaving it out of our query. Now let's look at the s2/s1 ratio versus s1 for these events."
     ]
    },
    {
     "cell_type": "code",
     "collapsed": false,
     "input": [
      "plt.figure(2)\n",
      "for event in passed_events_nos2thresh:\n",
      "    \n",
      "    # Now have to make sure s2 area != 0 since we got rid of thresh\n",
      "    if len( event['S2s'] ) != 0 and event['S2s'][0]['area_bottom_corr'] != 0 :\n",
      "        plt.scatter( event['S1s'][0]['area_tot_corr'],\n",
      "                    math.log10( event['S2s'][0]['area_bottom_corr'] / event['S1s'][0]['area_tot_corr'] ) )\n",
      "        \n",
      "# Label and draw\n",
      "plt.xlabel('cxS1sTot[0]', fontsize=18)\n",
      "plt.ylabel('log10(cS2sTotBottom[0]/cxS1sTot[0])', fontsize=16)\n",
      "plt.show()"
     ],
     "language": "python",
     "metadata": {},
     "outputs": [
      {
       "metadata": {},
       "output_type": "display_data",
       "png": "[encoded data removed]",
       "text": [
        "<matplotlib.figure.Figure at 0x7f7fef5aa710>"
       ]
      }
     ],
     "prompt_number": 27
    },
    {
     "cell_type": "markdown",
     "metadata": {},
     "source": [
      "And this is our below threshold bananna. We can combine them into one plot using the following code."
     ]
    },
    {
     "cell_type": "code",
     "collapsed": false,
     "input": [
      "interactive_plot = plt.figure(3)\n",
      "passed_events = collection.find( filter_dict )\n",
      "for event in passed_events:\n",
      "    \n",
      "    # First plot\n",
      "    if len( event['S2s'] ) != 0 and len( event['S1s'] ) != 0:\n",
      "        plt.scatter( event['S1s'][0]['area_tot_corr'], \n",
      "                     math.log10( event['S2s'][0]['area_bottom_corr'] / event['S1s'][0]['area_tot_corr'] ) )\n",
      "    \n",
      "passed_events_nos2thresh = collection.find( filter_dict_nos2thresh )\n",
      "for event in passed_events_nos2thresh:\n",
      "    \n",
      "    # Now have to make sure s2 area != 0 since we got rid of thresh\n",
      "    if len( event['S2s'] ) != 0 and event['S2s'][0]['area_bottom_corr'] != 0 :\n",
      "        plt.scatter( event['S1s'][0]['area_tot_corr'],\n",
      "                    math.log10( event['S2s'][0]['area_bottom_corr'] / event['S1s'][0]['area_tot_corr'] ), color=\"red\" )\n",
      "\n",
      "# Draw\n",
      "plt.xlabel('cxS1sTot[0]', fontsize=18)\n",
      "plt.ylabel('log10(cS2sTotBottom[0]/cxS1sTot[0])', fontsize=16)\n",
      "plt.show()"
     ],
     "language": "python",
     "metadata": {},
     "outputs": [
      {
       "metadata": {},
       "output_type": "display_data",
       "png": "[encoded data removed]",
       "text": [
        "<matplotlib.figure.Figure at 0x7f7fef008c50>"
       ]
      }
     ],
     "prompt_number": 50
    },
    {
     "cell_type": "markdown",
     "metadata": {},
     "source": [
      "Keep in mind this is just an example. A real analysis would probably try to be a bit more efficient than just looping over and over through the cursor (maybe just one loop and fill all the graphs there). But we can at least have an idea of the type of dynamic data analysis that is possible."
     ]
    },
    {
     "cell_type": "heading",
     "level": 3,
     "metadata": {},
     "source": [
      "2.4 Uniquely cool things you can do with a database"
     ]
    },
    {
     "cell_type": "markdown",
     "metadata": {},
     "source": [
      "Now you're saying \"OK, fine, but I can do all that stuff with ROOT files\". First of all: while that's true using a database to define a custom cut selection was 10 times more straightforward than messing around with batch processing files and creating event lists. The code you see here is the only code used. There was no setting of pointers to branch addresses or any of that nonsense. Secondly, OK, but how about something that isn't so easy to do in ROOT. For this we can look at some more advanced database queries.\n",
      "\n",
      "The query we used above just defined some exact matches on variables that had to be fulfilled. But actually there's way more stuff you can do with a database.\n",
      "\n",
      "In the following example use the selection above for events *failing* the S2 threshold condition. Now for each event we want to graph the largest S2 for every event coming in the 10 seconds previous to each selected event. Nevermind that this query doesn't make much scientific sense, it's just an example and should give some idea of what kinds of things are possible. When making such a macroscopic time cut like this you can be thinking of, for example, combining muon veto and tpc data in XENON1T dynamically.\n",
      "\n",
      "As before define our cursor:"
     ]
    },
    {
     "cell_type": "code",
     "collapsed": false,
     "input": [
      "passed_events_nos2thresh = collection.find( filter_dict_nos2thresh )"
     ],
     "language": "python",
     "metadata": {},
     "outputs": [],
     "prompt_number": 6
    },
    {
     "cell_type": "markdown",
     "metadata": {},
     "source": [
      "Now loop through the cursor and build another query for each event asking for all events up to 10 seconds before:"
     ]
    },
    {
     "cell_type": "code",
     "collapsed": false,
     "input": [
      "plt.figure(4)\n",
      "x_data = []\n",
      "y_data = []\n",
      "\n",
      "for event in passed_events_nos2thresh:\n",
      "   \n",
      "    # This is the actual query. It returns a cursor which can be iterated over.\n",
      "    ten_second_query = { \n",
      "                        'time_s': {\n",
      "                                    \"$lt\" : event['time_s'],\n",
      "                                    \"$gte\" : event['time_s'] - 10 \n",
      "                                    },\n",
      "                        }\n",
      "    ten_second_cursor = collection.find( ten_second_query, \n",
      "                                         fields=['time_s','S2s'] \n",
      "                                       )\n",
      "    \n",
      "    # Iterate over the cursor and fill our data \n",
      "    for p_event in ten_second_cursor:\n",
      "        tdiff_s = event['time_s'] - p_event['time_s']\n",
      "        x_data.append(tdiff_s)\n",
      "        y_data.append(event['S2s'][0]['area_tot'])\n",
      "        \n",
      "# Plot it\n",
      "plt.hist2d( x_data, y_data, bins=[10, 100])\n",
      "plt.xlabel('Time diff (s)', fontsize=18)\n",
      "plt.ylabel('S2sTot[0]', fontsize=16)\n",
      "plt.show()\n"
     ],
     "language": "python",
     "metadata": {},
     "outputs": [
      {
       "metadata": {},
       "output_type": "display_data",
       "png": "[encoded data removed]",
       "text": [
        "<matplotlib.figure.Figure at 0x7fce11a712e8>"
       ]
      }
     ],
     "prompt_number": 7
    },
    {
     "cell_type": "markdown",
     "metadata": {},
     "source": [
      "I don't really know how I would have done this in a ROOT analysis, but I'm pretty sure it would have been ugly."
     ]
    },
    {
     "cell_type": "heading",
     "level": 1,
     "metadata": {},
     "source": [
      "3. Is it fast? How fast?"
     ]
    },
    {
     "cell_type": "markdown",
     "metadata": {},
     "source": [
      "Yes and quite. But let's check the speed. This is done using a bit more data. In this case we will compare processing about 15 runs of AmBe data from run 12 using both a database-based analysis and a traditional analysis using ROOT files. Since we want to be fair we run with a few different modes:\n",
      "1. Database-based analysis with no indexes\n",
      "2. ROOT-based analysis using TGraph->Project(). I really hope nobody actually uses this for any analysis creating more than one or two plots.\n",
      "3. ROOT-based analysis using TTree->GetEntry() in a loop where cuts are first applied to create a TEntryList. This is by far the fastest way to do a XENON100 analysis but the programming overhead is completely insane. To be fair we will time the amount of time it takes to create the entry list (since that is what the DB is doing and you could use the DB to make a small, preselected file for fast analysis as well). \n",
      "\n",
      "In both cases we store the data on a solid state drive and in both cases we run on the same PC with the same hardware. So no cheating. But we will give the ROOT based analysis a possible advantage. The ROOT based analysis will be written in C++ (it is much more natural to use C++ for ROOT) while the database-based analysis will be written in python. You could use either language for either analysis. Our database software, Mongodb, is natively written in C++.\n",
      "\n",
      "For those following along at home we're using ROOT6 and MongoDB 2.6. \n",
      "\n",
      "In order to illustrate the point that TGraph->Project() is the devil we will do three tests with this method, one where a single histogram is created, one where two histograms are created, and one where three histograms are created. The processing time scales linearly with the number of histograms.\n",
      "\n",
      "We'll first try first a small file (~40k entries) and then a group of 10-15 files (~3M entries). \n",
      "\n",
      "Here's our analysis function for the database-based analysis:"
     ]
    },
    {
     "cell_type": "code",
     "collapsed": false,
     "input": [
      "from pymongo import MongoClient\n",
      "import datetime\n",
      "from ROOT import gROOT, TH2F, TCanvas, gStyle\n",
      "import rootnotes\n",
      "\n",
      "def analysis_function(filter_dict, collection, thecanvas, histo):\n",
      "    gStyle.SetOptStat(0)\n",
      "    starttime = datetime.datetime.now()\n",
      "    print( \"Start at \" + starttime.strftime(\"%I:%M:%S%p on %B %d, %Y\") )\n",
      "\n",
      "    \n",
      "    '''\n",
      "    Connect to the mongoclient and define our database \n",
      "    '''\n",
      "    try: \n",
      "        connection = MongoClient(\"localhost\")\n",
      "    except RuntimeError:\n",
      "        print(\"Error connecting to DB machine\")\n",
      "        exit(2)\n",
      "    database = connection[\"run12_ambe\"]\n",
      "    collection = database[collection] \n",
      "    total_events = collection.count()\n",
      "\n",
      "\n",
      "    \n",
      "    passed_events = collection.find( filter_dict, { 'S1s': { \"$slice\": 1 }, 'S2s':{ \"$slice\": 1 } })\n",
      "    num_passed = passed_events.count()\n",
      "\n",
      "\n",
      "    ''' \n",
      "    ROOT Stuff \n",
      "    '''\n",
      "\n",
      "\n",
      "    '''\n",
      "    The actual event loop. \n",
      "    '''\n",
      "    for event in passed_events:\n",
      "        if len( event['S2s'] ) == 0 or len( event['S1s'] ) == 0 or event['S1s'][0]['area_tot_corr'] == 0. or event['S2s'][0]['area_bottom_corr'] == 0.:\n",
      "            continue\n",
      "        histo.Fill( event['S1s'][0]['area_tot_corr'], math.log10( event['S2s'][0]['area_bottom_corr'] / event['S1s'][0]['area_tot_corr']))\n",
      "    \n",
      "\n",
      "    ''' \n",
      "    Print some stats and draw the histo\n",
      "    '''\n",
      "    endtime = datetime.datetime.now()\n",
      "    print( \"Done at \" + endtime.strftime(\"%I:%M:%S%p on %B %d, %Y\") )\n",
      "    print( \"The analysis took \" + str((endtime - starttime).seconds) + \" seconds\")\n",
      "    print( \"The analysis accepted \" + str(num_passed) + \" events from \" + str(total_events))"
     ],
     "language": "python",
     "metadata": {},
     "outputs": [],
     "prompt_number": 6
    },
    {
     "cell_type": "code",
     "collapsed": false,
     "input": [
      "thecanvas = rootnotes.canvas( \"test\", (400, 400) )\n",
      "histo = TH2F( \"plot\", \"plot\", 1000, 0, 10000, 1300, -3, 10)\n",
      "filter_dict = {\n",
      "                \"cuts.xsignalnoise5\"            : True,\n",
      "                \"cuts.xs1width0\"                : True,\n",
      "                \"cuts.xs2peaks2\"                : True,\n",
      "                \"cuts.xs1coin2\"                 : True,\n",
      "                \"cuts.xentropy1\"                : True,\n",
      "                \"cuts.xhighlog1\"                : True,\n",
      "                \"cuts.xs2single3\"               : True,\n",
      "                \"cuts.xveto2\"                   : True\n",
      "}\n",
      "collection = \"xe100_130516_1119\" # small collection \n",
      "analysis_function(filter_dict, collection, thecanvas, histo)\n",
      "histo.Draw()\n",
      "thecanvas"
     ],
     "language": "python",
     "metadata": {},
     "outputs": [
      {
       "output_type": "stream",
       "stream": "stdout",
       "text": [
        "Start at 05:01:40PM on February 26, 2015\n",
        "Done at 05:01:41PM on February 26, 2015"
       ]
      },
      {
       "output_type": "stream",
       "stream": "stdout",
       "text": [
        "\n",
        "The analysis took 0 seconds\n",
        "The analysis accepted 210 events from 40729\n"
       ]
      },
      {
       "output_type": "stream",
       "stream": "stderr",
       "text": [
        "TCanvas::Constructor:0: RuntimeWarning: Deleting canvas with same name: test\n"
       ]
      },
      {
       "metadata": {},
       "output_type": "pyout",
       "png": "[encoded data removed]",
       "prompt_number": 7,
       "text": [
        "<ROOT.TCanvas object (\"test\") at 0x2f914e0>"
       ]
      }
     ],
     "prompt_number": 7
    },
    {
     "cell_type": "markdown",
     "metadata": {},
     "source": [
      "OK, I ran it several times. The first run takes like 2 seconds. Subsequent runs take less than a second since the query is cached.\n",
      "\n",
      "Now the larger dataset in python."
     ]
    },
    {
     "cell_type": "code",
     "collapsed": false,
     "input": [
      "collection = \"all\" \n",
      "thecanvas = rootnotes.canvas( \"test2\", (400, 400) )\n",
      "histo = TH2F( \"plot2\", \"plot2\", 1000, 0, 10000, 1300, -3, 10) \n",
      "analysis_function(filter_dict, collection, thecanvas, histo)\n",
      "histo.Draw()\n",
      "thecanvas"
     ],
     "language": "python",
     "metadata": {},
     "outputs": [
      {
       "output_type": "stream",
       "stream": "stdout",
       "text": [
        "Start at 05:08:58PM on February 26, 2015\n",
        "Done at 05:15:25PM on February 26, 2015"
       ]
      },
      {
       "output_type": "stream",
       "stream": "stdout",
       "text": [
        "\n",
        "The analysis took 386 seconds\n",
        "The analysis accepted 14561 events from 2886839\n"
       ]
      },
      {
       "output_type": "stream",
       "stream": "stderr",
       "text": [
        "TCanvas::Constructor:0: RuntimeWarning: Deleting canvas with same name: test2\n",
        "TROOT::Append:0: RuntimeWarning: Replacing existing TH1: plot2 (Potential memory leak).\n"
       ]
      },
      {
       "metadata": {},
       "output_type": "pyout",
       "png": "[encoded data removed]",
       "prompt_number": 9,
       "text": [
        "<ROOT.TCanvas object (\"test2\") at 0x3565110>"
       ]
      }
     ],
     "prompt_number": 9
    },
    {
     "cell_type": "markdown",
     "metadata": {},
     "source": [
      "By comparison the ROOT analyses took the following times:\n",
      "\n",
      " * Short dataset (40k events):\n",
      "        * Database analysis: 0s\n",
      "        * Event list analysis: 12s\n",
      "        * \"Project\" analysis one plot: 12s\n",
      "        * \"Project\" analysis two plots: 23s\n",
      "        * \"Project\" analysis three plots: 35s\n",
      " * Larger dataset (3M events):\n",
      "        * Database analysis: 386s = 06m26s\n",
      "        * Event list analysis: 1011s = 16m51s\n",
      "        * \"Project\" analysis one plot: 1016s = 16m56s\n",
      "        * \"Project\" analysis two plots: 1978s = 32m58s\n",
      "        * \"Project\" analysis three plots: 2958s = 49m18s holy cow\n",
      "\n",
      "Or represented as a plot:"
     ]
    },
    {
     "cell_type": "code",
     "collapsed": false,
     "input": [
      "from ROOT import TH1F, gStyle\n",
      "import rootnotes\n",
      "gStyle.SetOptStat(0)\n",
      "\n",
      "c1 = rootnotes.canvas(\"timescanvas\", (1000, 800))  \n",
      "c1.Divide(1,2)\n",
      "\n",
      "c1.cd(1)\n",
      "h1 = TH1F(\"smalltimes\", \"Process time small dataset\", 5, 0, 5)\n",
      "\n",
      "h1.SetBinContent(1, 2) #Rounded to 1\n",
      "h1.GetXaxis().SetBinLabel(1, \"MongoDB\")\n",
      "h1.SetBinContent(2, 12)\n",
      "h1.GetXaxis().SetBinLabel(2, \"Entry List\")\n",
      "h1.SetBinContent(3, 12)\n",
      "h1.GetXaxis().SetBinLabel(3, \"Project 1 Histo\")\n",
      "h1.SetBinContent(4, 23)\n",
      "h1.GetXaxis().SetBinLabel(4, \"Project 2 Histos\")\n",
      "h1.SetBinContent(5, 35)\n",
      "h1.GetXaxis().SetBinLabel(5, \"Project 3 Histos\")\n",
      "\n",
      "h1.GetYaxis().SetTitle( \"Processing time [s]\" )\n",
      "h1.GetYaxis().SetTitleOffset( 1. )\n",
      "h1.SetBarWidth(.8)\n",
      "h1.SetBarOffset(.1)\n",
      "h1.SetFillColor(9)\n",
      "h1.GetYaxis().SetRangeUser(0, 37)\n",
      "h1.Draw(\"bar\")\n",
      "\n",
      "c1.cd(2)\n",
      "h2 = TH1F(\"largetimes\",\"Process time large dataset\", 5, 0, 5)\n",
      "h2.SetBinContent(1, 386)\n",
      "h2.GetXaxis().SetBinLabel(1, \"MongoDB\")\n",
      "h2.SetBinContent(2, 1011)\n",
      "h2.GetXaxis().SetBinLabel(2, \"Entry List\")\n",
      "h2.SetBinContent(3, 1016)\n",
      "h2.GetXaxis().SetBinLabel(3, \"Project 1 histo\")\n",
      "h2.SetBinContent(4, 1978)\n",
      "h2.GetXaxis().SetBinLabel(4, \"Project 2 histos\")\n",
      "h2.SetBinContent(5, 2958)\n",
      "h2.GetXaxis().SetBinLabel(5, \"Project 3 histos\")\n",
      "\n",
      "h2.GetYaxis().SetTitle( \"Processing time [s]\" )\n",
      "h2.GetYaxis().SetTitleOffset( 1. )\n",
      "h2.SetBarWidth(.8)\n",
      "h2.SetBarOffset(.1)\n",
      "h2.SetFillColor(9)\n",
      "h2.GetYaxis().SetRangeUser(0, 3200)\n",
      "h2.Draw(\"bar\")\n",
      "#c1.SetLogy()\n",
      "c1"
     ],
     "language": "python",
     "metadata": {},
     "outputs": [
      {
       "metadata": {},
       "output_type": "pyout",
       "png": "[encoded data removed]",
       "prompt_number": 10,
       "text": [
        "<ROOT.TCanvas object (\"timescanvas\") at 0x33d6820>"
       ]
      }
     ],
     "prompt_number": 10
    },
    {
     "cell_type": "markdown",
     "metadata": {},
     "source": [
      "Keep in mind we are using both software packages 'out of the box' with no extra configuration. To preclude a couple complaints:\n",
      " * Some ROOT guru will probably show me some magic where he can cut down the processing time of the ROOT method. I think the methods used here are the ones most collaboration members use. If there is some software people are using that parallelizes things or speeds up file access we should make this standard for everyone.\n",
      " * It should be stressed that the database analysis is not optimized. I didn't put any indexes on any values or try any fancy tricks to speed up the query. The document format is probably not completely ideal for fast queries but it seemed natural at the time. Please note that indexing in particular provides a very substantial speed boost. An unindexed search must perform a comparison to each event. An indexed search reduces the number of comparisons performed greatly by organizing indices in search trees. \n",
      "\n",
      "The graph speaks for itself: a simple database analysis is over twice as fast as the simplest corresponding ROOT analysis. Also, the ROOT script I used is like 300 lines long (have to define all the cut aliases, TChain definitions, friends, whatever) while the entire DB analysis is contained in the 50 lines you see above."
     ]
    },
    {
     "cell_type": "heading",
     "level": 1,
     "metadata": {},
     "source": [
      "4. Conclusion"
     ]
    },
    {
     "cell_type": "markdown",
     "metadata": {},
     "source": [
      "Hopefully it is clear that databases are cool and powerful tools for storage and selection of data. These are truly professional software packages supported by industry leaders which we get to use for free.\n",
      "\n",
      "Even if we don't end up using databases in the final analysis hopefully we can at least get the ball rolling on thinking about what kind of improvements we want for the analysis infrastructure in XENON1T. \n",
      "\n",
      "The source code used for this analysis is on our github under XeAnalysisScripts/db_based_analysis. If people are interested in playing around with it I can write some docs on how to use the code and/or get you access to our server so you can play with your own cuts.\n"
     ]
    }
   ],
   "metadata": {}
  }
 ]
}